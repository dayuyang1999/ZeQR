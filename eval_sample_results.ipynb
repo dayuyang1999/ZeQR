{
 "cells": [
  {
   "cell_type": "code",
   "execution_count": 2,
   "metadata": {},
   "outputs": [],
   "source": [
    "import json\n",
    "from tqdm import tqdm\n",
    "import os\n",
    "import json\n",
    "#import pickle\n",
    "#from eval_retrieval_results import RunFuser"
   ]
  },
  {
   "cell_type": "code",
   "execution_count": 3,
   "metadata": {},
   "outputs": [],
   "source": [
    "eval_year = '2020'"
   ]
  },
  {
   "attachments": {},
   "cell_type": "markdown",
   "metadata": {},
   "source": [
    "# Load qrel and topics data\n",
    "\n",
    "give you some statistics about the data you use"
   ]
  },
  {
   "cell_type": "code",
   "execution_count": 4,
   "metadata": {},
   "outputs": [],
   "source": [
    "if eval_year == \"2019\":\n",
    "    # global var for 2019\n",
    "    topic_dir = './CAsT/topics/2019_evaluation_topics_v1.0.json'\n",
    "    qrel_file_dir = './CAsT/qrels/2019qrels.txt'\n",
    "    raw_query_field = 'raw_utterance'\n",
    "elif eval_year == \"2020\":\n",
    "    # global vars for 2020\n",
    "    topic_dir = \"./CAsT/topics//2020_manual_evaluation_topics_v1.0.json\"\n",
    "    qrel_file_dir = \"./CAsT/qrels/2020qrels.txt\"\n",
    "    raw_query_field = 'raw_utterance'\n",
    "elif eval_year == \"2021\":\n",
    "    topic_dir = './CAsT/topics/2021_manual_evaluation_topics_v1.0.json'\n",
    "    qrel_file_dir = './CAsT/qrels/2021qrels.txt'\n",
    "    raw_query_field = 'raw_utterance'\n",
    "elif eval_year == \"2022\":\n",
    "    topic_dir = \"./CAsT/topics/2022_evaluation_topics_flattened_duplicated_v1.0json\"\n",
    "    qrel_file_dir = './CAsT/topics/2022qrels.txt'\n",
    "    raw_query_field = 'utterance'\n",
    "else:\n",
    "    raise ValueError(\"eval_year must be one of 2019, 2020, 2021, 2022\")"
   ]
  },
  {
   "cell_type": "code",
   "execution_count": 5,
   "metadata": {},
   "outputs": [
    {
     "name": "stdout",
     "output_type": "stream",
     "text": [
      "totally 216 number of qids to evaluate\n"
     ]
    }
   ],
   "source": [
    "# create all qid list\n",
    "all_qids = []\n",
    "with open(topic_dir, 'r') as topics:\n",
    "    topics = json.load(topics)\n",
    "for session in topics:\n",
    "    session_num = str(session[\"number\"])\n",
    "    for turn_id, conversations in enumerate(session[\"turn\"]):\n",
    "        #query = conversations[raw_query_field]\n",
    "        conversation_num = str(conversations[\"number\"])\n",
    "        qid = session_num + \"_\" + conversation_num\n",
    "        if qid in all_qids:\n",
    "            pass\n",
    "        else:\n",
    "            all_qids.append(qid)\n",
    "\n",
    "all_qids = list(set(all_qids))\n",
    "\n",
    "print(f\"totally {len(all_qids)} number of qids to evaluate\")"
   ]
  },
  {
   "attachments": {},
   "cell_type": "markdown",
   "metadata": {},
   "source": [
    "# Evaluate"
   ]
  },
  {
   "attachments": {},
   "cell_type": "markdown",
   "metadata": {},
   "source": [
    "## Define Evaluate Functions\n",
    "\n",
    "The reason 2021 is different from other CAsT years is because other years are evaluated on passage, but CAsT-2021 is evaluated on document. See TREC CAsT 2021 Overview paper for details."
   ]
  },
  {
   "cell_type": "code",
   "execution_count": 6,
   "metadata": {},
   "outputs": [],
   "source": [
    "\n",
    "    \n",
    "def eval2021(hits_num, run_file_dir:str, run_name:str, qrel_file_dir:str)-> None:\n",
    "    '''\n",
    "    Only 2021 need to docize the runfile\n",
    "    '''\n",
    "    docize_file_dir = \"/data_hdd/dayu/TREC/run_results/official_docize.py\"\n",
    "    \n",
    "    \n",
    "    print(\"evaluating...\")\n",
    "    os.system(f'python3 {docize_file_dir} --run_file_path {run_file_dir} --run_name {run_name}')\n",
    "    \n",
    "    # os.system(f'python -m pyserini.eval.trec_eval -c -M 1000 -m map --level_for_rel 2 {qrel_file_dir} /data_hdd/dayu/TREC/run_results/{run_name}-converted.run')\n",
    "    # os.system(f'python -m pyserini.eval.trec_eval -c -M 1000 -m mrr --level_for_rel 2 {qrel_file_dir} /data_hdd/dayu/TREC/run_results/{run_name}-converted.run')\n",
    "    # os.system(f'python -m pyserini.eval.trec_eval -c -M 1000 -m recall --level_for_rel 2 {qrel_file_dir} /data_hdd/dayu/TREC/run_results/{run_name}-converted.run')\n",
    "    # os.system(f'python -m pyserini.eval.trec_eval -c -M {hits_num} -m recall.{hits_num} --level_for_rel 2 {qrel_file_dir} /data_hdd/dayu/TREC/run_results/{run_name}-converted.run')\n",
    "    # os.system(f'python -m pyserini.eval.trec_eval -c -M 1000 -m ndcg_cut.3 {qrel_file_dir} /data_hdd/dayu/TREC/run_results/{run_name}-converted.run')\n",
    "    # os.system(f'python -m pyserini.eval.trec_eval -c -q -m all_trec {qrel_file_dir} /data_hdd/dayu/TREC/run_results/{run_name}-converted.run')\n",
    "\n",
    "    #os.system(f'python -m pyserini.eval.trec_eval -c -m ndcg_cut.3 {qrel_file_dir} {run_file_dir}')\n",
    "    os.system(f'python -m pyserini.eval.trec_eval -c -m ndcg_cut.5 {qrel_file_dir} {run_file_dir}')\n",
    "    os.system(f'python -m pyserini.eval.trec_eval -c -m P.5 {qrel_file_dir} {run_file_dir}')\n",
    "    os.system(f'python -m pyserini.eval.trec_eval -c -m recall.100 {qrel_file_dir} {run_file_dir}')\n",
    "    os.system(f'python -m pyserini.eval.trec_eval -c -m map {qrel_file_dir} {run_file_dir}')\n",
    "    \n",
    "    \n",
    "    print(\"Evaluation Done\")\n",
    "    \n",
    "    \n",
    "def eval(hits_num, run_file_dir:str, qrel_file_dir:str)-> None:\n",
    "    '''\n",
    "    \n",
    "    '''\n",
    "    #docize_file_dir = \"/data_hdd/dayu/TREC/run_results/official_docize.py\"\n",
    "    \n",
    "    \n",
    "    print(\"evaluating...\")\n",
    "    #os.system(f'python3 {docize_file_dir} --run_file_path {run_file_dir} --run_name {run_name}')\n",
    "    \n",
    "    #os.system(f'python -m pyserini.eval.trec_eval -c -m map_cut.1000 --level_for_rel 2 {qrel_file_dir} {run_file_dir}')\n",
    "    #os.system(f'python -m pyserini.eval.trec_eval -c -m ndcg_cut.3 {qrel_file_dir} {run_file_dir}')\n",
    "    os.system(f'python -m pyserini.eval.trec_eval -c -m ndcg_cut.5 {qrel_file_dir} {run_file_dir}')\n",
    "    os.system(f'python -m pyserini.eval.trec_eval -c -m P.5 {qrel_file_dir} {run_file_dir}')\n",
    "    os.system(f'python -m pyserini.eval.trec_eval -c -m recall.100 {qrel_file_dir} {run_file_dir}')\n",
    "    os.system(f'python -m pyserini.eval.trec_eval -c -m map {qrel_file_dir} {run_file_dir}')\n",
    "    #os.system(f'python -m pyserini.eval.trec_eval -c -q -m all_trec {qrel_file_dir} {run_file_dir}')\n",
    "    \n",
    "    print(\"Evaluation Done\")\n",
    "\n",
    "    "
   ]
  },
  {
   "attachments": {},
   "cell_type": "markdown",
   "metadata": {},
   "source": [
    "# Reproduce the paper results"
   ]
  },
  {
   "cell_type": "code",
   "execution_count": 7,
   "metadata": {},
   "outputs": [
    {
     "name": "stdout",
     "output_type": "stream",
     "text": [
      "evaluating...\n"
     ]
    },
    {
     "name": "stderr",
     "output_type": "stream",
     "text": [
      "2023-07-12 17:23:53.601067: I tensorflow/stream_executor/platform/default/dso_loader.cc:49] Successfully opened dynamic library libcudart.so.11.0\n",
      "/home/dayu/anaconda3/envs/chatty_goose/lib/python3.7/site-packages/torch/cuda/__init__.py:82: UserWarning: CUDA initialization: Unexpected error from cudaGetDeviceCount(). Did you run some cuda functions before calling NumCudaDevices() that might have already set an error? Error 804: forward compatibility was attempted on non supported HW (Triggered internally at  /opt/conda/conda-bld/pytorch_1646755953518/work/c10/cuda/CUDAFunctions.cpp:112.)\n",
      "  return torch._C._cuda_getDeviceCount() > 0\n"
     ]
    },
    {
     "name": "stdout",
     "output_type": "stream",
     "text": [
      "Downloading https://search.maven.org/remotecontent?filepath=uk/ac/gla/dcs/terrierteam/jtreceval/0.0.5/jtreceval-0.0.5-jar-with-dependencies.jar to /usa/dayu/.cache/pyserini/eval/jtreceval-0.0.5-jar-with-dependencies.jar...\n",
      "/usa/dayu/.cache/pyserini/eval/jtreceval-0.0.5-jar-with-dependencies.jar already exists!\n",
      "Skipping download.\n",
      "Running command: ['java', '-jar', '/usa/dayu/.cache/pyserini/eval/jtreceval-0.0.5-jar-with-dependencies.jar', '-c', '-m', 'ndcg_cut.5', 'CAsT/qrels/2019qrels.txt', 'sample/ranking_results/2019-dedup.run']\n",
      "Results:\n",
      "ndcg_cut_5            \tall\t0.3821\n",
      "\n"
     ]
    },
    {
     "name": "stderr",
     "output_type": "stream",
     "text": [
      "2023-07-12 17:23:58.030683: I tensorflow/stream_executor/platform/default/dso_loader.cc:49] Successfully opened dynamic library libcudart.so.11.0\n",
      "/home/dayu/anaconda3/envs/chatty_goose/lib/python3.7/site-packages/torch/cuda/__init__.py:82: UserWarning: CUDA initialization: Unexpected error from cudaGetDeviceCount(). Did you run some cuda functions before calling NumCudaDevices() that might have already set an error? Error 804: forward compatibility was attempted on non supported HW (Triggered internally at  /opt/conda/conda-bld/pytorch_1646755953518/work/c10/cuda/CUDAFunctions.cpp:112.)\n",
      "  return torch._C._cuda_getDeviceCount() > 0\n"
     ]
    },
    {
     "name": "stdout",
     "output_type": "stream",
     "text": [
      "Downloading https://search.maven.org/remotecontent?filepath=uk/ac/gla/dcs/terrierteam/jtreceval/0.0.5/jtreceval-0.0.5-jar-with-dependencies.jar to /usa/dayu/.cache/pyserini/eval/jtreceval-0.0.5-jar-with-dependencies.jar...\n",
      "/usa/dayu/.cache/pyserini/eval/jtreceval-0.0.5-jar-with-dependencies.jar already exists!\n",
      "Skipping download.\n",
      "Running command: ['java', '-jar', '/usa/dayu/.cache/pyserini/eval/jtreceval-0.0.5-jar-with-dependencies.jar', '-c', '-m', 'P.5', 'CAsT/qrels/2019qrels.txt', 'sample/ranking_results/2019-dedup.run']\n",
      "Results:\n",
      "P_5                   \tall\t0.4751\n",
      "\n"
     ]
    },
    {
     "name": "stderr",
     "output_type": "stream",
     "text": [
      "2023-07-12 17:24:02.522057: I tensorflow/stream_executor/platform/default/dso_loader.cc:49] Successfully opened dynamic library libcudart.so.11.0\n",
      "/home/dayu/anaconda3/envs/chatty_goose/lib/python3.7/site-packages/torch/cuda/__init__.py:82: UserWarning: CUDA initialization: Unexpected error from cudaGetDeviceCount(). Did you run some cuda functions before calling NumCudaDevices() that might have already set an error? Error 804: forward compatibility was attempted on non supported HW (Triggered internally at  /opt/conda/conda-bld/pytorch_1646755953518/work/c10/cuda/CUDAFunctions.cpp:112.)\n",
      "  return torch._C._cuda_getDeviceCount() > 0\n"
     ]
    },
    {
     "name": "stdout",
     "output_type": "stream",
     "text": [
      "Downloading https://search.maven.org/remotecontent?filepath=uk/ac/gla/dcs/terrierteam/jtreceval/0.0.5/jtreceval-0.0.5-jar-with-dependencies.jar to /usa/dayu/.cache/pyserini/eval/jtreceval-0.0.5-jar-with-dependencies.jar...\n",
      "/usa/dayu/.cache/pyserini/eval/jtreceval-0.0.5-jar-with-dependencies.jar already exists!\n",
      "Skipping download.\n",
      "Running command: ['java', '-jar', '/usa/dayu/.cache/pyserini/eval/jtreceval-0.0.5-jar-with-dependencies.jar', '-c', '-m', 'recall.100', 'CAsT/qrels/2019qrels.txt', 'sample/ranking_results/2019-dedup.run']\n",
      "Results:\n",
      "recall_100            \tall\t0.3575\n",
      "\n"
     ]
    },
    {
     "name": "stderr",
     "output_type": "stream",
     "text": [
      "2023-07-12 17:24:07.106836: I tensorflow/stream_executor/platform/default/dso_loader.cc:49] Successfully opened dynamic library libcudart.so.11.0\n",
      "/home/dayu/anaconda3/envs/chatty_goose/lib/python3.7/site-packages/torch/cuda/__init__.py:82: UserWarning: CUDA initialization: Unexpected error from cudaGetDeviceCount(). Did you run some cuda functions before calling NumCudaDevices() that might have already set an error? Error 804: forward compatibility was attempted on non supported HW (Triggered internally at  /opt/conda/conda-bld/pytorch_1646755953518/work/c10/cuda/CUDAFunctions.cpp:112.)\n",
      "  return torch._C._cuda_getDeviceCount() > 0\n"
     ]
    },
    {
     "name": "stdout",
     "output_type": "stream",
     "text": [
      "Downloading https://search.maven.org/remotecontent?filepath=uk/ac/gla/dcs/terrierteam/jtreceval/0.0.5/jtreceval-0.0.5-jar-with-dependencies.jar to /usa/dayu/.cache/pyserini/eval/jtreceval-0.0.5-jar-with-dependencies.jar...\n",
      "/usa/dayu/.cache/pyserini/eval/jtreceval-0.0.5-jar-with-dependencies.jar already exists!\n",
      "Skipping download.\n",
      "Running command: ['java', '-jar', '/usa/dayu/.cache/pyserini/eval/jtreceval-0.0.5-jar-with-dependencies.jar', '-c', '-m', 'map', 'CAsT/qrels/2019qrels.txt', 'sample/ranking_results/2019-dedup.run']\n",
      "Results:\n",
      "map                   \tall\t0.2095\n",
      "\n",
      "Evaluation Done\n"
     ]
    }
   ],
   "source": [
    "# EVAL CAST-19\n",
    "run_file_dir = 'sample/ranking_results/2019-dedup.run'\n",
    "qrel_dir = 'CAsT/qrels/2019qrels.txt'\n",
    "eval(1000, run_file_dir,qrel_dir)"
   ]
  },
  {
   "cell_type": "code",
   "execution_count": 8,
   "metadata": {},
   "outputs": [
    {
     "name": "stdout",
     "output_type": "stream",
     "text": [
      "evaluating...\n"
     ]
    },
    {
     "name": "stderr",
     "output_type": "stream",
     "text": [
      "2023-07-12 17:24:32.233194: I tensorflow/stream_executor/platform/default/dso_loader.cc:49] Successfully opened dynamic library libcudart.so.11.0\n",
      "/home/dayu/anaconda3/envs/chatty_goose/lib/python3.7/site-packages/torch/cuda/__init__.py:82: UserWarning: CUDA initialization: Unexpected error from cudaGetDeviceCount(). Did you run some cuda functions before calling NumCudaDevices() that might have already set an error? Error 804: forward compatibility was attempted on non supported HW (Triggered internally at  /opt/conda/conda-bld/pytorch_1646755953518/work/c10/cuda/CUDAFunctions.cpp:112.)\n",
      "  return torch._C._cuda_getDeviceCount() > 0\n"
     ]
    },
    {
     "name": "stdout",
     "output_type": "stream",
     "text": [
      "Downloading https://search.maven.org/remotecontent?filepath=uk/ac/gla/dcs/terrierteam/jtreceval/0.0.5/jtreceval-0.0.5-jar-with-dependencies.jar to /usa/dayu/.cache/pyserini/eval/jtreceval-0.0.5-jar-with-dependencies.jar...\n",
      "/usa/dayu/.cache/pyserini/eval/jtreceval-0.0.5-jar-with-dependencies.jar already exists!\n",
      "Skipping download.\n",
      "Running command: ['java', '-jar', '/usa/dayu/.cache/pyserini/eval/jtreceval-0.0.5-jar-with-dependencies.jar', '-c', '-m', 'ndcg_cut.5', 'CAsT/qrels/2020qrels.txt', 'sample/ranking_results/2020.run']\n",
      "Results:\n",
      "ndcg_cut_5            \tall\t0.2281\n",
      "\n"
     ]
    },
    {
     "name": "stderr",
     "output_type": "stream",
     "text": [
      "2023-07-12 17:24:37.000418: I tensorflow/stream_executor/platform/default/dso_loader.cc:49] Successfully opened dynamic library libcudart.so.11.0\n",
      "/home/dayu/anaconda3/envs/chatty_goose/lib/python3.7/site-packages/torch/cuda/__init__.py:82: UserWarning: CUDA initialization: Unexpected error from cudaGetDeviceCount(). Did you run some cuda functions before calling NumCudaDevices() that might have already set an error? Error 804: forward compatibility was attempted on non supported HW (Triggered internally at  /opt/conda/conda-bld/pytorch_1646755953518/work/c10/cuda/CUDAFunctions.cpp:112.)\n",
      "  return torch._C._cuda_getDeviceCount() > 0\n"
     ]
    },
    {
     "name": "stdout",
     "output_type": "stream",
     "text": [
      "Downloading https://search.maven.org/remotecontent?filepath=uk/ac/gla/dcs/terrierteam/jtreceval/0.0.5/jtreceval-0.0.5-jar-with-dependencies.jar to /usa/dayu/.cache/pyserini/eval/jtreceval-0.0.5-jar-with-dependencies.jar...\n",
      "/usa/dayu/.cache/pyserini/eval/jtreceval-0.0.5-jar-with-dependencies.jar already exists!\n",
      "Skipping download.\n",
      "Running command: ['java', '-jar', '/usa/dayu/.cache/pyserini/eval/jtreceval-0.0.5-jar-with-dependencies.jar', '-c', '-m', 'P.5', 'CAsT/qrels/2020qrels.txt', 'sample/ranking_results/2020.run']\n",
      "Results:\n",
      "P_5                   \tall\t0.2981\n",
      "\n"
     ]
    },
    {
     "name": "stderr",
     "output_type": "stream",
     "text": [
      "2023-07-12 17:24:41.796850: I tensorflow/stream_executor/platform/default/dso_loader.cc:49] Successfully opened dynamic library libcudart.so.11.0\n",
      "/home/dayu/anaconda3/envs/chatty_goose/lib/python3.7/site-packages/torch/cuda/__init__.py:82: UserWarning: CUDA initialization: Unexpected error from cudaGetDeviceCount(). Did you run some cuda functions before calling NumCudaDevices() that might have already set an error? Error 804: forward compatibility was attempted on non supported HW (Triggered internally at  /opt/conda/conda-bld/pytorch_1646755953518/work/c10/cuda/CUDAFunctions.cpp:112.)\n",
      "  return torch._C._cuda_getDeviceCount() > 0\n"
     ]
    },
    {
     "name": "stdout",
     "output_type": "stream",
     "text": [
      "Downloading https://search.maven.org/remotecontent?filepath=uk/ac/gla/dcs/terrierteam/jtreceval/0.0.5/jtreceval-0.0.5-jar-with-dependencies.jar to /usa/dayu/.cache/pyserini/eval/jtreceval-0.0.5-jar-with-dependencies.jar...\n",
      "/usa/dayu/.cache/pyserini/eval/jtreceval-0.0.5-jar-with-dependencies.jar already exists!\n",
      "Skipping download.\n",
      "Running command: ['java', '-jar', '/usa/dayu/.cache/pyserini/eval/jtreceval-0.0.5-jar-with-dependencies.jar', '-c', '-m', 'recall.100', 'CAsT/qrels/2020qrels.txt', 'sample/ranking_results/2020.run']\n",
      "Results:\n",
      "recall_100            \tall\t0.3116\n",
      "\n"
     ]
    },
    {
     "name": "stderr",
     "output_type": "stream",
     "text": [
      "2023-07-12 17:24:46.423015: I tensorflow/stream_executor/platform/default/dso_loader.cc:49] Successfully opened dynamic library libcudart.so.11.0\n",
      "/home/dayu/anaconda3/envs/chatty_goose/lib/python3.7/site-packages/torch/cuda/__init__.py:82: UserWarning: CUDA initialization: Unexpected error from cudaGetDeviceCount(). Did you run some cuda functions before calling NumCudaDevices() that might have already set an error? Error 804: forward compatibility was attempted on non supported HW (Triggered internally at  /opt/conda/conda-bld/pytorch_1646755953518/work/c10/cuda/CUDAFunctions.cpp:112.)\n",
      "  return torch._C._cuda_getDeviceCount() > 0\n"
     ]
    },
    {
     "name": "stdout",
     "output_type": "stream",
     "text": [
      "Downloading https://search.maven.org/remotecontent?filepath=uk/ac/gla/dcs/terrierteam/jtreceval/0.0.5/jtreceval-0.0.5-jar-with-dependencies.jar to /usa/dayu/.cache/pyserini/eval/jtreceval-0.0.5-jar-with-dependencies.jar...\n",
      "/usa/dayu/.cache/pyserini/eval/jtreceval-0.0.5-jar-with-dependencies.jar already exists!\n",
      "Skipping download.\n",
      "Running command: ['java', '-jar', '/usa/dayu/.cache/pyserini/eval/jtreceval-0.0.5-jar-with-dependencies.jar', '-c', '-m', 'map', 'CAsT/qrels/2020qrels.txt', 'sample/ranking_results/2020.run']\n",
      "Results:\n",
      "map                   \tall\t0.1462\n",
      "\n",
      "Evaluation Done\n"
     ]
    }
   ],
   "source": [
    "# EVAL CAST-20\n",
    "run_file_dir = 'sample/ranking_results/2020.run'\n",
    "qrel_dir = 'CAsT/qrels/2020qrels.txt'\n",
    "eval(1000, run_file_dir,qrel_dir)"
   ]
  },
  {
   "cell_type": "code",
   "execution_count": 9,
   "metadata": {},
   "outputs": [
    {
     "name": "stdout",
     "output_type": "stream",
     "text": [
      "evaluating...\n"
     ]
    },
    {
     "name": "stderr",
     "output_type": "stream",
     "text": [
      "2023-07-12 17:24:51.037183: I tensorflow/stream_executor/platform/default/dso_loader.cc:49] Successfully opened dynamic library libcudart.so.11.0\n",
      "/home/dayu/anaconda3/envs/chatty_goose/lib/python3.7/site-packages/torch/cuda/__init__.py:82: UserWarning: CUDA initialization: Unexpected error from cudaGetDeviceCount(). Did you run some cuda functions before calling NumCudaDevices() that might have already set an error? Error 804: forward compatibility was attempted on non supported HW (Triggered internally at  /opt/conda/conda-bld/pytorch_1646755953518/work/c10/cuda/CUDAFunctions.cpp:112.)\n",
      "  return torch._C._cuda_getDeviceCount() > 0\n"
     ]
    },
    {
     "name": "stdout",
     "output_type": "stream",
     "text": [
      "Downloading https://search.maven.org/remotecontent?filepath=uk/ac/gla/dcs/terrierteam/jtreceval/0.0.5/jtreceval-0.0.5-jar-with-dependencies.jar to /usa/dayu/.cache/pyserini/eval/jtreceval-0.0.5-jar-with-dependencies.jar...\n",
      "/usa/dayu/.cache/pyserini/eval/jtreceval-0.0.5-jar-with-dependencies.jar already exists!\n",
      "Skipping download.\n",
      "Running command: ['java', '-jar', '/usa/dayu/.cache/pyserini/eval/jtreceval-0.0.5-jar-with-dependencies.jar', '-c', '-m', 'ndcg_cut.5', 'CAsT/qrels/2021qrels.txt', 'sample/ranking_results/2021-docize.run']\n",
      "Results:\n",
      "ndcg_cut_5            \tall\t0.2712\n",
      "\n"
     ]
    },
    {
     "name": "stderr",
     "output_type": "stream",
     "text": [
      "2023-07-12 17:24:55.613792: I tensorflow/stream_executor/platform/default/dso_loader.cc:49] Successfully opened dynamic library libcudart.so.11.0\n",
      "/home/dayu/anaconda3/envs/chatty_goose/lib/python3.7/site-packages/torch/cuda/__init__.py:82: UserWarning: CUDA initialization: Unexpected error from cudaGetDeviceCount(). Did you run some cuda functions before calling NumCudaDevices() that might have already set an error? Error 804: forward compatibility was attempted on non supported HW (Triggered internally at  /opt/conda/conda-bld/pytorch_1646755953518/work/c10/cuda/CUDAFunctions.cpp:112.)\n",
      "  return torch._C._cuda_getDeviceCount() > 0\n"
     ]
    },
    {
     "name": "stdout",
     "output_type": "stream",
     "text": [
      "Downloading https://search.maven.org/remotecontent?filepath=uk/ac/gla/dcs/terrierteam/jtreceval/0.0.5/jtreceval-0.0.5-jar-with-dependencies.jar to /usa/dayu/.cache/pyserini/eval/jtreceval-0.0.5-jar-with-dependencies.jar...\n",
      "/usa/dayu/.cache/pyserini/eval/jtreceval-0.0.5-jar-with-dependencies.jar already exists!\n",
      "Skipping download.\n",
      "Running command: ['java', '-jar', '/usa/dayu/.cache/pyserini/eval/jtreceval-0.0.5-jar-with-dependencies.jar', '-c', '-m', 'P.5', 'CAsT/qrels/2021qrels.txt', 'sample/ranking_results/2021-docize.run']\n",
      "Results:\n",
      "P_5                   \tall\t0.3316\n",
      "\n"
     ]
    },
    {
     "name": "stderr",
     "output_type": "stream",
     "text": [
      "2023-07-12 17:25:00.091820: I tensorflow/stream_executor/platform/default/dso_loader.cc:49] Successfully opened dynamic library libcudart.so.11.0\n",
      "/home/dayu/anaconda3/envs/chatty_goose/lib/python3.7/site-packages/torch/cuda/__init__.py:82: UserWarning: CUDA initialization: Unexpected error from cudaGetDeviceCount(). Did you run some cuda functions before calling NumCudaDevices() that might have already set an error? Error 804: forward compatibility was attempted on non supported HW (Triggered internally at  /opt/conda/conda-bld/pytorch_1646755953518/work/c10/cuda/CUDAFunctions.cpp:112.)\n",
      "  return torch._C._cuda_getDeviceCount() > 0\n"
     ]
    },
    {
     "name": "stdout",
     "output_type": "stream",
     "text": [
      "Downloading https://search.maven.org/remotecontent?filepath=uk/ac/gla/dcs/terrierteam/jtreceval/0.0.5/jtreceval-0.0.5-jar-with-dependencies.jar to /usa/dayu/.cache/pyserini/eval/jtreceval-0.0.5-jar-with-dependencies.jar...\n",
      "/usa/dayu/.cache/pyserini/eval/jtreceval-0.0.5-jar-with-dependencies.jar already exists!\n",
      "Skipping download.\n",
      "Running command: ['java', '-jar', '/usa/dayu/.cache/pyserini/eval/jtreceval-0.0.5-jar-with-dependencies.jar', '-c', '-m', 'recall.100', 'CAsT/qrels/2021qrels.txt', 'sample/ranking_results/2021-docize.run']\n",
      "Results:\n",
      "recall_100            \tall\t0.3453\n",
      "\n"
     ]
    },
    {
     "name": "stderr",
     "output_type": "stream",
     "text": [
      "2023-07-12 17:25:04.616520: I tensorflow/stream_executor/platform/default/dso_loader.cc:49] Successfully opened dynamic library libcudart.so.11.0\n",
      "/home/dayu/anaconda3/envs/chatty_goose/lib/python3.7/site-packages/torch/cuda/__init__.py:82: UserWarning: CUDA initialization: Unexpected error from cudaGetDeviceCount(). Did you run some cuda functions before calling NumCudaDevices() that might have already set an error? Error 804: forward compatibility was attempted on non supported HW (Triggered internally at  /opt/conda/conda-bld/pytorch_1646755953518/work/c10/cuda/CUDAFunctions.cpp:112.)\n",
      "  return torch._C._cuda_getDeviceCount() > 0\n"
     ]
    },
    {
     "name": "stdout",
     "output_type": "stream",
     "text": [
      "Downloading https://search.maven.org/remotecontent?filepath=uk/ac/gla/dcs/terrierteam/jtreceval/0.0.5/jtreceval-0.0.5-jar-with-dependencies.jar to /usa/dayu/.cache/pyserini/eval/jtreceval-0.0.5-jar-with-dependencies.jar...\n",
      "/usa/dayu/.cache/pyserini/eval/jtreceval-0.0.5-jar-with-dependencies.jar already exists!\n",
      "Skipping download.\n",
      "Running command: ['java', '-jar', '/usa/dayu/.cache/pyserini/eval/jtreceval-0.0.5-jar-with-dependencies.jar', '-c', '-m', 'map', 'CAsT/qrels/2021qrels.txt', 'sample/ranking_results/2021-docize.run']\n",
      "Results:\n",
      "map                   \tall\t0.1720\n",
      "\n",
      "Evaluation Done\n"
     ]
    }
   ],
   "source": [
    "# EVAL CAST-21\n",
    "run_file_dir = 'sample/ranking_results/2021-docize.run'\n",
    "qrel_dir = 'CAsT/qrels/2021qrels.txt'\n",
    "eval(1000, run_file_dir,qrel_dir)"
   ]
  },
  {
   "cell_type": "code",
   "execution_count": 10,
   "metadata": {},
   "outputs": [
    {
     "name": "stdout",
     "output_type": "stream",
     "text": [
      "evaluating...\n"
     ]
    },
    {
     "name": "stderr",
     "output_type": "stream",
     "text": [
      "2023-07-12 17:25:09.119292: I tensorflow/stream_executor/platform/default/dso_loader.cc:49] Successfully opened dynamic library libcudart.so.11.0\n",
      "/home/dayu/anaconda3/envs/chatty_goose/lib/python3.7/site-packages/torch/cuda/__init__.py:82: UserWarning: CUDA initialization: Unexpected error from cudaGetDeviceCount(). Did you run some cuda functions before calling NumCudaDevices() that might have already set an error? Error 804: forward compatibility was attempted on non supported HW (Triggered internally at  /opt/conda/conda-bld/pytorch_1646755953518/work/c10/cuda/CUDAFunctions.cpp:112.)\n",
      "  return torch._C._cuda_getDeviceCount() > 0\n"
     ]
    },
    {
     "name": "stdout",
     "output_type": "stream",
     "text": [
      "Downloading https://search.maven.org/remotecontent?filepath=uk/ac/gla/dcs/terrierteam/jtreceval/0.0.5/jtreceval-0.0.5-jar-with-dependencies.jar to /usa/dayu/.cache/pyserini/eval/jtreceval-0.0.5-jar-with-dependencies.jar...\n",
      "/usa/dayu/.cache/pyserini/eval/jtreceval-0.0.5-jar-with-dependencies.jar already exists!\n",
      "Skipping download.\n",
      "Running command: ['java', '-jar', '/usa/dayu/.cache/pyserini/eval/jtreceval-0.0.5-jar-with-dependencies.jar', '-c', '-m', 'ndcg_cut.5', 'CAsT/qrels/2022qrels.txt', 'sample/ranking_results/2022.run']\n",
      "Results:\n",
      "ndcg_cut_5            \tall\t0.1998\n",
      "\n"
     ]
    },
    {
     "name": "stderr",
     "output_type": "stream",
     "text": [
      "2023-07-12 17:25:13.643599: I tensorflow/stream_executor/platform/default/dso_loader.cc:49] Successfully opened dynamic library libcudart.so.11.0\n",
      "/home/dayu/anaconda3/envs/chatty_goose/lib/python3.7/site-packages/torch/cuda/__init__.py:82: UserWarning: CUDA initialization: Unexpected error from cudaGetDeviceCount(). Did you run some cuda functions before calling NumCudaDevices() that might have already set an error? Error 804: forward compatibility was attempted on non supported HW (Triggered internally at  /opt/conda/conda-bld/pytorch_1646755953518/work/c10/cuda/CUDAFunctions.cpp:112.)\n",
      "  return torch._C._cuda_getDeviceCount() > 0\n"
     ]
    },
    {
     "name": "stdout",
     "output_type": "stream",
     "text": [
      "Downloading https://search.maven.org/remotecontent?filepath=uk/ac/gla/dcs/terrierteam/jtreceval/0.0.5/jtreceval-0.0.5-jar-with-dependencies.jar to /usa/dayu/.cache/pyserini/eval/jtreceval-0.0.5-jar-with-dependencies.jar...\n",
      "/usa/dayu/.cache/pyserini/eval/jtreceval-0.0.5-jar-with-dependencies.jar already exists!\n",
      "Skipping download.\n",
      "Running command: ['java', '-jar', '/usa/dayu/.cache/pyserini/eval/jtreceval-0.0.5-jar-with-dependencies.jar', '-c', '-m', 'P.5', 'CAsT/qrels/2022qrels.txt', 'sample/ranking_results/2022.run']\n",
      "Results:\n",
      "P_5                   \tall\t0.2687\n",
      "\n"
     ]
    },
    {
     "name": "stderr",
     "output_type": "stream",
     "text": [
      "2023-07-12 17:25:18.215659: I tensorflow/stream_executor/platform/default/dso_loader.cc:49] Successfully opened dynamic library libcudart.so.11.0\n",
      "/home/dayu/anaconda3/envs/chatty_goose/lib/python3.7/site-packages/torch/cuda/__init__.py:82: UserWarning: CUDA initialization: Unexpected error from cudaGetDeviceCount(). Did you run some cuda functions before calling NumCudaDevices() that might have already set an error? Error 804: forward compatibility was attempted on non supported HW (Triggered internally at  /opt/conda/conda-bld/pytorch_1646755953518/work/c10/cuda/CUDAFunctions.cpp:112.)\n",
      "  return torch._C._cuda_getDeviceCount() > 0\n"
     ]
    },
    {
     "name": "stdout",
     "output_type": "stream",
     "text": [
      "Downloading https://search.maven.org/remotecontent?filepath=uk/ac/gla/dcs/terrierteam/jtreceval/0.0.5/jtreceval-0.0.5-jar-with-dependencies.jar to /usa/dayu/.cache/pyserini/eval/jtreceval-0.0.5-jar-with-dependencies.jar...\n",
      "/usa/dayu/.cache/pyserini/eval/jtreceval-0.0.5-jar-with-dependencies.jar already exists!\n",
      "Skipping download.\n",
      "Running command: ['java', '-jar', '/usa/dayu/.cache/pyserini/eval/jtreceval-0.0.5-jar-with-dependencies.jar', '-c', '-m', 'recall.100', 'CAsT/qrels/2022qrels.txt', 'sample/ranking_results/2022.run']\n",
      "Results:\n",
      "recall_100            \tall\t0.1527\n",
      "\n"
     ]
    },
    {
     "name": "stderr",
     "output_type": "stream",
     "text": [
      "2023-07-12 17:25:22.775952: I tensorflow/stream_executor/platform/default/dso_loader.cc:49] Successfully opened dynamic library libcudart.so.11.0\n",
      "/home/dayu/anaconda3/envs/chatty_goose/lib/python3.7/site-packages/torch/cuda/__init__.py:82: UserWarning: CUDA initialization: Unexpected error from cudaGetDeviceCount(). Did you run some cuda functions before calling NumCudaDevices() that might have already set an error? Error 804: forward compatibility was attempted on non supported HW (Triggered internally at  /opt/conda/conda-bld/pytorch_1646755953518/work/c10/cuda/CUDAFunctions.cpp:112.)\n",
      "  return torch._C._cuda_getDeviceCount() > 0\n"
     ]
    },
    {
     "name": "stdout",
     "output_type": "stream",
     "text": [
      "Downloading https://search.maven.org/remotecontent?filepath=uk/ac/gla/dcs/terrierteam/jtreceval/0.0.5/jtreceval-0.0.5-jar-with-dependencies.jar to /usa/dayu/.cache/pyserini/eval/jtreceval-0.0.5-jar-with-dependencies.jar...\n",
      "/usa/dayu/.cache/pyserini/eval/jtreceval-0.0.5-jar-with-dependencies.jar already exists!\n",
      "Skipping download.\n",
      "Running command: ['java', '-jar', '/usa/dayu/.cache/pyserini/eval/jtreceval-0.0.5-jar-with-dependencies.jar', '-c', '-m', 'map', 'CAsT/qrels/2022qrels.txt', 'sample/ranking_results/2022.run']\n",
      "Results:\n",
      "map                   \tall\t0.0956\n",
      "\n",
      "Evaluation Done\n"
     ]
    }
   ],
   "source": [
    "# EVAL CAST-22\n",
    "run_file_dir = 'sample/ranking_results/2022.run'\n",
    "qrel_dir = 'CAsT/qrels/2022qrels.txt'\n",
    "eval(1000, run_file_dir,qrel_dir)"
   ]
  },
  {
   "cell_type": "code",
   "execution_count": null,
   "metadata": {},
   "outputs": [],
   "source": []
  }
 ],
 "metadata": {
  "kernelspec": {
   "display_name": "chatty_goose",
   "language": "python",
   "name": "python3"
  },
  "language_info": {
   "codemirror_mode": {
    "name": "ipython",
    "version": 3
   },
   "file_extension": ".py",
   "mimetype": "text/x-python",
   "name": "python",
   "nbconvert_exporter": "python",
   "pygments_lexer": "ipython3",
   "version": "3.7.2"
  },
  "orig_nbformat": 4
 },
 "nbformat": 4,
 "nbformat_minor": 2
}
